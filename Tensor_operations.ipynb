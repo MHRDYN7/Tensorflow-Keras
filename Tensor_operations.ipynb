{
  "nbformat": 4,
  "nbformat_minor": 0,
  "metadata": {
    "colab": {
      "provenance": [],
      "authorship_tag": "ABX9TyMfmCXX0LYN+LYMEq4g9EmR",
      "include_colab_link": true
    },
    "kernelspec": {
      "name": "python3",
      "display_name": "Python 3"
    },
    "language_info": {
      "name": "python"
    }
  },
  "cells": [
    {
      "cell_type": "markdown",
      "metadata": {
        "id": "view-in-github",
        "colab_type": "text"
      },
      "source": [
        "<a href=\"https://colab.research.google.com/github/MHRDYN7/Tensorflow-Keras/blob/main/Tensor_operations.ipynb\" target=\"_parent\"><img src=\"https://colab.research.google.com/assets/colab-badge.svg\" alt=\"Open In Colab\"/></a>"
      ]
    },
    {
      "cell_type": "code",
      "execution_count": 1,
      "metadata": {
        "id": "hJdC_pA4TQY1"
      },
      "outputs": [],
      "source": [
        "import tensorflow as tf"
      ]
    },
    {
      "cell_type": "code",
      "source": [
        "\"\"\"\n",
        "tf.constant(value, dtype=None, shape=None, name='Const')\n",
        "\"\"\"\n",
        "\n",
        "x = tf.constant(4, shape=(1, 1), dtype=tf.float32)\n",
        "print(x)\n",
        "\n",
        "x = tf.constant([[1, 2, 3], [4, 5, 6]], shape=(2, 3))\n",
        "print(x)\n",
        "\n",
        "\"\"\"\n",
        "tf.eye(num_rows, num_columns=None, batch_shape=None, dtype=tf.dtypes.float32, name=None)\n",
        "\"\"\"\n",
        "x = tf.eye(3)\n",
        "print(x)\n",
        "\n",
        "x = tf.ones((4, 3))\n",
        "print(x)\n",
        "\n",
        "x = tf.zeros((3, 2, 5))\n",
        "print(x)"
      ],
      "metadata": {
        "colab": {
          "base_uri": "https://localhost:8080/"
        },
        "id": "9NZEkLlwVIAo",
        "outputId": "d0209d52-f606-4321-daee-e1a13c198223"
      },
      "execution_count": null,
      "outputs": [
        {
          "output_type": "stream",
          "name": "stdout",
          "text": [
            "tf.Tensor([[4.]], shape=(1, 1), dtype=float32)\n",
            "tf.Tensor(\n",
            "[[1 2 3]\n",
            " [4 5 6]], shape=(2, 3), dtype=int32)\n",
            "tf.Tensor(\n",
            "[[1. 0. 0.]\n",
            " [0. 1. 0.]\n",
            " [0. 0. 1.]], shape=(3, 3), dtype=float32)\n",
            "tf.Tensor(\n",
            "[[1. 1. 1.]\n",
            " [1. 1. 1.]\n",
            " [1. 1. 1.]\n",
            " [1. 1. 1.]], shape=(4, 3), dtype=float32)\n",
            "tf.Tensor(\n",
            "[[[0. 0. 0. 0. 0.]\n",
            "  [0. 0. 0. 0. 0.]]\n",
            "\n",
            " [[0. 0. 0. 0. 0.]\n",
            "  [0. 0. 0. 0. 0.]]\n",
            "\n",
            " [[0. 0. 0. 0. 0.]\n",
            "  [0. 0. 0. 0. 0.]]], shape=(3, 2, 5), dtype=float32)\n"
          ]
        }
      ]
    },
    {
      "cell_type": "code",
      "source": [
        "x = tf.random.uniform((2, 2), minval=0, maxval=1)\n",
        "print(x)\n",
        "\n",
        "x = tf.random.normal((3, 3), mean=0, stddev=1)\n",
        "print(tf.cast(x, dtype=tf.float64))\n",
        "# tf.cast is used for changing the data type"
      ],
      "metadata": {
        "colab": {
          "base_uri": "https://localhost:8080/"
        },
        "id": "m0JqY7YMVQEe",
        "outputId": "b74b03aa-9c15-48fa-c54e-6797ca923f46"
      },
      "execution_count": null,
      "outputs": [
        {
          "output_type": "stream",
          "name": "stdout",
          "text": [
            "tf.Tensor(\n",
            "[[0.00276923 0.08802152]\n",
            " [0.9592235  0.08349288]], shape=(2, 2), dtype=float32)\n",
            "tf.Tensor(\n",
            "[[ 0.34456208 -0.68735921  0.79477817]\n",
            " [ 1.23752153 -1.36579514  0.10745967]\n",
            " [ 1.8117938   0.41304871 -0.16240966]], shape=(3, 3), dtype=float64)\n"
          ]
        }
      ]
    },
    {
      "cell_type": "code",
      "source": [
        "x = tf.range(9)\n",
        "print(x)\n",
        "x = tf.range(start=0, limit=10, delta=2)\n",
        "print(x)"
      ],
      "metadata": {
        "colab": {
          "base_uri": "https://localhost:8080/"
        },
        "id": "Yw8TClHkWfxj",
        "outputId": "1602a53c-39ec-4643-b3ec-977517241871"
      },
      "execution_count": null,
      "outputs": [
        {
          "output_type": "stream",
          "name": "stdout",
          "text": [
            "tf.Tensor([0 1 2 3 4 5 6 7 8], shape=(9,), dtype=int32)\n",
            "tf.Tensor([0 2 4 6 8], shape=(5,), dtype=int32)\n"
          ]
        }
      ]
    },
    {
      "cell_type": "code",
      "source": [
        "#Simple math operations work element wise\n",
        "\n",
        "t1 = tf.constant([4,6,8,10])\n",
        "t2 = tf.constant([2,3,4,5])\n",
        "\n",
        "t3 = t1/t2\n",
        "print(t3)\n",
        "\n"
      ],
      "metadata": {
        "id": "5VOv227UWqU8",
        "outputId": "ce1d2855-3ad7-44d2-a2c0-797d424a05d8",
        "colab": {
          "base_uri": "https://localhost:8080/"
        }
      },
      "execution_count": 8,
      "outputs": [
        {
          "output_type": "stream",
          "name": "stdout",
          "text": [
            "tf.Tensor([2. 2. 2. 2.], shape=(4,), dtype=float64)\n"
          ]
        }
      ]
    },
    {
      "cell_type": "code",
      "source": [
        "#tf.tensordot(x, y, axes=1)\n",
        "#tf.matmul(x,y)"
      ],
      "metadata": {
        "id": "feKSjObMomgj"
      },
      "execution_count": null,
      "outputs": []
    },
    {
      "cell_type": "code",
      "source": [
        "t4 = tf.tensordot(t1,t2, axes=1)\n",
        "t4"
      ],
      "metadata": {
        "id": "vwitJz-IqrVf",
        "outputId": "c096ed93-bc9f-41ca-efc9-71e6eae85425",
        "colab": {
          "base_uri": "https://localhost:8080/"
        }
      },
      "execution_count": 11,
      "outputs": [
        {
          "output_type": "execute_result",
          "data": {
            "text/plain": [
              "<tf.Tensor: shape=(), dtype=int32, numpy=108>"
            ]
          },
          "metadata": {},
          "execution_count": 11
        }
      ]
    },
    {
      "cell_type": "code",
      "source": [
        "#to do\n",
        "#most of the common indexing rules apply, but check x[::2]\n",
        "#investigate tf.gather()\n",
        "#Completely understand the notion behind tf.reshape(x, (3, 3)) and tf.transpose(x, perm=[1, 0])"
      ],
      "metadata": {
        "id": "3CUT7hVmWqYi"
      },
      "execution_count": null,
      "outputs": []
    },
    {
      "cell_type": "code",
      "source": [
        "a = tf.constant([[4,5,6,7,8,9]])"
      ],
      "metadata": {
        "id": "wakXlConYlcq"
      },
      "execution_count": 12,
      "outputs": []
    },
    {
      "cell_type": "code",
      "source": [
        "a[0:2]"
      ],
      "metadata": {
        "id": "KLh8dtB4lVyQ",
        "outputId": "6811917e-d2cb-47ef-c1e2-515c24aee847",
        "colab": {
          "base_uri": "https://localhost:8080/"
        }
      },
      "execution_count": 17,
      "outputs": [
        {
          "output_type": "execute_result",
          "data": {
            "text/plain": [
              "<tf.Tensor: shape=(1, 6), dtype=int32, numpy=array([[4, 5, 6, 7, 8, 9]], dtype=int32)>"
            ]
          },
          "metadata": {},
          "execution_count": 17
        }
      ]
    },
    {
      "cell_type": "code",
      "source": [],
      "metadata": {
        "id": "HLEV4pB3lWX7"
      },
      "execution_count": null,
      "outputs": []
    }
  ]
}